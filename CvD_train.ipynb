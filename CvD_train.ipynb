{
 "cells": [
  {
   "cell_type": "markdown",
   "metadata": {},
   "source": [
    "# Google Machinelearing Challenge\n",
    "#### Team 루프탑"
   ]
  },
  {
   "cell_type": "code",
   "execution_count": 1,
   "metadata": {},
   "outputs": [],
   "source": [
    "import os\n",
    "from glob import glob\n",
    "\n",
    "import pandas as pd # Dataframe\n",
    "import numpy as np #Linear Algebra\n",
    "import matplotlib.pyplot as plt #Visualization\n",
    "%matplotlib inline\n",
    "from skimage import color, io \n",
    "from scipy.misc import imresize \n",
    "#from PIL import Image\n",
    "\n",
    "import tflearn\n",
    "from tflearn.data_utils import shuffle, to_categorical\n",
    "from tflearn.layers.core import input_data, dropout, fully_connected\n",
    "from tflearn.layers.conv import conv_2d, max_pool_2d\n",
    "from tflearn.layers.estimator import regression\n",
    "from tflearn.data_preprocessing import ImagePreprocessing\n",
    "from tflearn.data_augmentation import ImageAugmentation\n",
    "from tflearn.metrics import Accuracy"
   ]
  },
  {
   "cell_type": "markdown",
   "metadata": {},
   "source": [
    "## EDA\n",
    "- 개 고양이 사진 분류\n",
    "- Train set\n",
    "    - cats : 7,854\n",
    "    - dogs : 7,872\n",
    "- Validation\n",
    "    - cats : 989\n",
    "    - dogs : 977\n",
    "- Test set\n",
    "    - 1,963\n",
    "   \n",
    "   \n",
    "## Data Import"
   ]
  },
  {
   "cell_type": "code",
   "execution_count": 2,
   "metadata": {
    "collapsed": true
   },
   "outputs": [],
   "source": [
    "files_path = './data'\n",
    "cat_files_path = os.path.join(files_path, 'train/cats/*.jpg')\n",
    "dog_files_path = os.path.join(files_path, 'train/dogs/*.jpg')\n",
    "cat_val_path = os.path.join(files_path, 'validation/cats/*.jpg')\n",
    "dog_val_path = os.path.join(files_path, 'validation/dogs/*.jpg')"
   ]
  },
  {
   "cell_type": "code",
   "execution_count": 3,
   "metadata": {},
   "outputs": [
    {
     "name": "stdout",
     "output_type": "stream",
     "text": [
      "./data/train/dogs/*.jpg\n",
      "./data/validation/dogs/*.jpg\n"
     ]
    }
   ],
   "source": [
    "cat_files = sorted(glob(cat_files_path))\n",
    "dog_files = sorted(glob(dog_files_path))\n",
    "train_files = cat_files + dog_files\n",
    "cat_val = sorted(glob(cat_val_path))\n",
    "dog_val = sorted(glob(dog_val_path))\n",
    "val_files = cat_val + dog_val\n",
    "print(dog_files_path)\n",
    "print(dog_val_path)"
   ]
  },
  {
   "cell_type": "code",
   "execution_count": 4,
   "metadata": {},
   "outputs": [
    {
     "name": "stdout",
     "output_type": "stream",
     "text": [
      "15724\n",
      "1964\n"
     ]
    }
   ],
   "source": [
    "n_files = len(train_files)\n",
    "n_val = len(val_files)\n",
    "print(n_files)\n",
    "print(n_val)"
   ]
  },
  {
   "cell_type": "code",
   "execution_count": 5,
   "metadata": {
    "collapsed": true
   },
   "outputs": [],
   "source": [
    "image_size = 128\n",
    "X = np.zeros((n_files, image_size, image_size, 3), dtype='float64')\n",
    "y = np.zeros(n_files)\n",
    "X_val = np.zeros((n_val, image_size, image_size, 3), dtype='float64')\n",
    "y_val = np.zeros(n_val)"
   ]
  },
  {
   "cell_type": "code",
   "execution_count": 7,
   "metadata": {},
   "outputs": [
    {
     "name": "stderr",
     "output_type": "stream",
     "text": [
      "/Users/mac/anaconda/lib/python3.6/site-packages/PIL/TiffImagePlugin.py:692: UserWarning: Possibly corrupt EXIF data.  Expecting to read 8589934590 bytes but only got 37573. Skipping tag 34855\n",
      "  \"Skipping tag %s\" % (size, len(data), tag))\n",
      "/Users/mac/anaconda/lib/python3.6/site-packages/PIL/TiffImagePlugin.py:692: UserWarning: Possibly corrupt EXIF data.  Expecting to read 8589934590 bytes but only got 28996. Skipping tag 34855\n",
      "  \"Skipping tag %s\" % (size, len(data), tag))\n",
      "/Users/mac/anaconda/lib/python3.6/site-packages/PIL/TiffImagePlugin.py:709: UserWarning: Corrupt EXIF data.  Expecting to read 2 bytes but only got 0. \n",
      "  warnings.warn(str(msg))\n",
      "/Users/mac/anaconda/lib/python3.6/site-packages/PIL/TiffImagePlugin.py:692: UserWarning: Possibly corrupt EXIF data.  Expecting to read 2818048 bytes but only got 0. Skipping tag 0\n",
      "  \"Skipping tag %s\" % (size, len(data), tag))\n",
      "/Users/mac/anaconda/lib/python3.6/site-packages/PIL/TiffImagePlugin.py:709: UserWarning: Corrupt EXIF data.  Expecting to read 12 bytes but only got 11. \n",
      "  warnings.warn(str(msg))\n",
      "/Users/mac/anaconda/lib/python3.6/site-packages/PIL/TiffImagePlugin.py:692: UserWarning: Possibly corrupt EXIF data.  Expecting to read 1114112 bytes but only got 0. Skipping tag 0\n",
      "  \"Skipping tag %s\" % (size, len(data), tag))\n",
      "/Users/mac/anaconda/lib/python3.6/site-packages/PIL/TiffImagePlugin.py:692: UserWarning: Possibly corrupt EXIF data.  Expecting to read 3473408 bytes but only got 0. Skipping tag 0\n",
      "  \"Skipping tag %s\" % (size, len(data), tag))\n"
     ]
    }
   ],
   "source": [
    "count = 0\n",
    "for f in cat_files:\n",
    "    try:\n",
    "        img = io.imread(f)\n",
    "        new_img = imresize(img, (image_size, image_size, 3))\n",
    "        X[count] = np.array(new_img)\n",
    "        y[count] = 0\n",
    "        count += 1\n",
    "    except:\n",
    "        continue\n",
    "\n",
    "for f in dog_files:\n",
    "    try:\n",
    "        img = io.imread(f)\n",
    "        new_img = imresize(img, (image_size, image_size, 3))\n",
    "        X[count] = np.array(new_img)\n",
    "        y[count] = 1\n",
    "        count += 1\n",
    "    except:\n",
    "        continue"
   ]
  },
  {
   "cell_type": "code",
   "execution_count": 7,
   "metadata": {
    "collapsed": true
   },
   "outputs": [],
   "source": [
    "count = 0\n",
    "for f in cat_val:\n",
    "    try:\n",
    "        img = io.imread(f)\n",
    "        new_img = imresize(img, (image_size, image_size, 3))\n",
    "        X_val[count] = np.array(new_img)\n",
    "        y_val[count] = 0\n",
    "        count += 1\n",
    "    except:\n",
    "        continue\n",
    "\n",
    "\n",
    "for f in dog_val:\n",
    "    try:\n",
    "        img = io.imread(f)\n",
    "        new_img = imresize(img, (image_size, image_size, 3))\n",
    "        X_val[count] = np.array(new_img)\n",
    "        y_val[count] = 1\n",
    "        count += 1\n",
    "    except:\n",
    "        continue"
   ]
  },
  {
   "cell_type": "code",
   "execution_count": 8,
   "metadata": {
    "collapsed": true
   },
   "outputs": [],
   "source": [
    "perm = np.arange(len(X))\n",
    "np.random.shuffle(perm)\n",
    "X = X[perm]\n",
    "y = y[perm]"
   ]
  },
  {
   "cell_type": "code",
   "execution_count": 9,
   "metadata": {
    "collapsed": true
   },
   "outputs": [],
   "source": [
    "perm = np.arange(len(X_val))\n",
    "np.random.shuffle(perm)\n",
    "X_val = X_val[perm]\n",
    "y_val = y_val[perm]"
   ]
  },
  {
   "cell_type": "code",
   "execution_count": 10,
   "metadata": {
    "collapsed": true
   },
   "outputs": [],
   "source": [
    "Y = to_categorical(y, 2)\n",
    "Y_val = to_categorical(y_val, 2)"
   ]
  },
  {
   "cell_type": "code",
   "execution_count": 11,
   "metadata": {
    "collapsed": true
   },
   "outputs": [],
   "source": [
    "img_prep = ImagePreprocessing()\n",
    "img_prep.add_featurewise_zero_center()\n",
    "img_prep.add_featurewise_stdnorm()"
   ]
  },
  {
   "cell_type": "code",
   "execution_count": 12,
   "metadata": {
    "collapsed": true
   },
   "outputs": [],
   "source": [
    "img_aug = ImageAugmentation()\n",
    "img_aug.add_random_flip_leftright()\n",
    "img_aug.add_random_rotation(max_angle=25.)"
   ]
  },
  {
   "cell_type": "code",
   "execution_count": 13,
   "metadata": {
    "collapsed": true
   },
   "outputs": [],
   "source": [
    "network = input_data(shape=[None, image_size, image_size, 3],\n",
    "                     data_preprocessing=img_prep,\n",
    "                     data_augmentation=img_aug)\n",
    "network = conv_2d(network, 32, 3, activation='relu')\n",
    "network = max_pool_2d(network, 2)\n",
    "network = conv_2d(network, 64, 3, activation='relu')\n",
    "network = conv_2d(network, 64, 3, activation='relu')\n",
    "network = max_pool_2d(network, 2)\n",
    "network = fully_connected(network, 512, activation='relu')\n",
    "network = dropout(network, 0.5)\n",
    "network = fully_connected(network, 2, activation='softmax')\n",
    "acc = Accuracy(name=\"Accuracy\")\n",
    "network = regression(network, optimizer='adam',\n",
    "                     loss='categorical_crossentropy',\n",
    "                     learning_rate=0.0005, metric=acc)"
   ]
  },
  {
   "cell_type": "code",
   "execution_count": 14,
   "metadata": {
    "collapsed": true
   },
   "outputs": [],
   "source": [
    "# 서버에서 학습시킨 코드\n",
    "model = tflearn.DNN(network, checkpoint_path='MLCrooftop.tflearn', max_checkpoints = 3,\n",
    "                    tensorboard_verbose = 3, tensorboard_dir='tmp/tflearn_logs/')"
   ]
  },
  {
   "cell_type": "code",
   "execution_count": 16,
   "metadata": {
    "scrolled": false
   },
   "outputs": [
    {
     "name": "stdout",
     "output_type": "stream",
     "text": [
      "Training Step: 31  | total loss: \u001b[1m\u001b[32m0.68143\u001b[0m\u001b[0m | time: 650.827s\n",
      "| Adam | epoch: 001 | loss: 0.68143 - Accuracy: 0.5561 -- iter: 15500/15724\n",
      "Training Step: 32  | total loss: \u001b[1m\u001b[32m0.68094\u001b[0m\u001b[0m | time: 678.876s\n",
      "| Adam | epoch: 001 | loss: 0.68094 - Accuracy: 0.5610 | val_loss: 0.67645 - val_acc: 0.5820 -- iter: 15724/15724\n",
      "--\n"
     ]
    }
   ],
   "source": [
    "model.fit(X, Y, validation_set=(X_val, Y_val), batch_size=500,\n",
    "      n_epoch=1, run_id='MLCrooftop', show_metric=True)"
   ]
  },
  {
   "cell_type": "markdown",
   "metadata": {},
   "source": [
    "- 실제 서버에서는 100 epoch 실행"
   ]
  },
  {
   "cell_type": "code",
   "execution_count": 17,
   "metadata": {
    "collapsed": true
   },
   "outputs": [],
   "source": [
    "model.save('MLCrooftop_final.tflearn')"
   ]
  },
  {
   "cell_type": "code",
   "execution_count": 18,
   "metadata": {},
   "outputs": [
    {
     "data": {
      "image/png": "[encoded data removed]",
      "text/plain": [
       "<matplotlib.figure.Figure at 0x7f74733e6eb8>"
      ]
     },
     "metadata": {},
     "output_type": "display_data"
    }
   ],
   "source": [
    "plt.imshow(X[1])\n",
    "plt.axis('off')\n",
    "plt.title('Sample image with label {}'.format(Y[1]))\n",
    "plt.show()"
   ]
  },
  {
   "cell_type": "code",
   "execution_count": 19,
   "metadata": {},
   "outputs": [
    {
     "data": {
      "text/plain": [
       "array([[ 0.42874637,  0.5712536 ],\n",
       "       [ 0.60955197,  0.390448  ],\n",
       "       [ 0.52209407,  0.47790587],\n",
       "       [ 0.53380615,  0.46619383],\n",
       "       [ 0.50968468,  0.49031526],\n",
       "       [ 0.49538428,  0.50461572],\n",
       "       [ 0.56830901,  0.43169096],\n",
       "       [ 0.50978982,  0.49021012],\n",
       "       [ 0.43235639,  0.56764364],\n",
       "       [ 0.48608565,  0.51391435]], dtype=float32)"
      ]
     },
     "execution_count": 19,
     "metadata": {},
     "output_type": "execute_result"
    }
   ],
   "source": [
    "model.predict(X_val[:10])"
   ]
  }
 ],
 "metadata": {
  "kernelspec": {
   "display_name": "Python 3",
   "language": "python",
   "name": "python3"
  },
  "language_info": {
   "codemirror_mode": {
    "name": "ipython",
    "version": 3
   },
   "file_extension": ".py",
   "mimetype": "text/x-python",
   "name": "python",
   "nbconvert_exporter": "python",
   "pygments_lexer": "ipython3",
   "version": "3.6.1"
  }
 },
 "nbformat": 4,
 "nbformat_minor": 2
}
